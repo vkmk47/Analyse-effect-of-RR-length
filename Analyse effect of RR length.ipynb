{
 "cells": [
  {
   "cell_type": "code",
   "execution_count": 1,
   "metadata": {},
   "outputs": [],
   "source": [
    "from mpl_toolkits.mplot3d import Axes3D\n",
    "from sklearn.preprocessing import StandardScaler\n",
    "import matplotlib.pyplot as plt # plotting\n",
    "import numpy as np # linear algebra\n",
    "import os # accessing directory structure\n",
    "import pandas as pd # data processing, CSV file I/O (e.g. pd.read_csv)\n",
    "from PARAM_HVR import mean_rr,mean_hr,sdnn, sdsd, rmssd, rmssd_sdsd, time_domain_analysis, poincare, stress_index, res_index, pns_index\n",
    "from PARAM_HVR import sns_index, iterative_sd, iterative_mean, frequency_domian, countPairsWithDiffK,kurtose,skewness,relativeRR\n",
    "from entropy import *"
   ]
  },
  {
   "cell_type": "code",
   "execution_count": 2,
   "metadata": {},
   "outputs": [],
   "source": [
    "P1_data = pd.read_csv('0. interim/swell/rri/p1.csv')"
   ]
  },
  {
   "cell_type": "code",
   "execution_count": 3,
   "metadata": {},
   "outputs": [],
   "source": [
    "time_sec = P1_data['Time']\n",
    "time_min = P1_data['Time']/60\n",
    "RR = P1_data['rri']"
   ]
  },
  {
   "cell_type": "code",
   "execution_count": 4,
   "metadata": {},
   "outputs": [],
   "source": [
    "def rr_interv_sec(RR,sekunde):\n",
    "    sume=0\n",
    "    sume_rr=0\n",
    "    index_rr=0\n",
    "    arr=[]\n",
    "    for t in time_sec:\n",
    "        if(sume<sekunde): \n",
    "            sume+=t\n",
    "            sume_rr+=RR[index_rr]\n",
    "        index_rr=index_rr+1\n",
    "        if(sume>=sekunde):\n",
    "            arr.append(sume_rr)\n",
    "            sume=0\n",
    "            sume_rr=0\n",
    "    return(arr)  "
   ]
  },
  {
   "cell_type": "code",
   "execution_count": 5,
   "metadata": {},
   "outputs": [],
   "source": [
    "sec_45=rr_interv_sec(RR,45)\n",
    "sec_30=rr_interv_sec(RR,30)\n",
    "sec_25=rr_interv_sec(RR,25)\n",
    "sec_20=rr_interv_sec(RR,20)\n",
    "sec_15=rr_interv_sec(RR,15)"
   ]
  },
  {
   "cell_type": "code",
   "execution_count": 6,
   "metadata": {},
   "outputs": [],
   "source": [
    "def rr_interv_min(RR,minute):\n",
    "    sume=0\n",
    "    sume_rr=0\n",
    "    index_rr=0\n",
    "    arr=[]\n",
    "    for t in time_min:\n",
    "        if(sume<minute): \n",
    "            sume+=t\n",
    "            sume_rr+=RR[index_rr]\n",
    "            #print('time: '+str(sume) +' '+ 'summe_rr: '+str(sume_rr))\n",
    "        index_rr=index_rr+1\n",
    "        if(sume>=minute):\n",
    "            arr.append(sume_rr)\n",
    "            sume=0\n",
    "            sume_rr=0\n",
    "    return(arr)  "
   ]
  },
  {
   "cell_type": "code",
   "execution_count": 7,
   "metadata": {},
   "outputs": [],
   "source": [
    "min_10=rr_interv_min(RR,10)\n",
    "min_5=rr_interv_min(RR,5)\n",
    "min_4=rr_interv_min(RR,4)\n",
    "min_3=rr_interv_min(RR,3)\n",
    "min_2=rr_interv_min(RR,2)\n",
    "min_1=rr_interv_min(RR,1)"
   ]
  },
  {
   "cell_type": "code",
   "execution_count": 8,
   "metadata": {},
   "outputs": [
    {
     "name": "stdout",
     "output_type": "stream",
     "text": [
      "Sample entropy RR gesamt\n",
      "0.33144635269702205\n",
      "Sample entropy 45s RR intervals\n",
      "0.28104542589045883\n",
      "Sample entropy 30s RR intervals\n",
      "0.2969174967477806\n",
      "Sample entropy 25s RR intervals\n",
      "0.30238116478125276\n",
      "Sample entropy 20s RR intervals\n",
      "0.3110008400332511\n",
      "Sample entropy 15s RR intervals\n",
      "0.315907124655981\n"
     ]
    }
   ],
   "source": [
    "#Methode to calculate the sample entropy(Package entropy)\n",
    "\n",
    "print('Sample entropy RR gesamt')\n",
    "print(sample_entropy(RR, order=2, metric='chebyshev'))              # Sample entropy\n",
    "\n",
    "print('Sample entropy 45s RR intervals')\n",
    "print(sample_entropy(sec_45, order=2, metric='chebyshev'))           # Sample entropy\n",
    "\n",
    "print('Sample entropy 30s RR intervals')\n",
    "print(sample_entropy(sec_30, order=2, metric='chebyshev'))           # Sample entropy\n",
    "\n",
    "print('Sample entropy 25s RR intervals')\n",
    "print(sample_entropy(sec_25, order=2, metric='chebyshev'))           # Sample entropy\n",
    "\n",
    "print('Sample entropy 20s RR intervals')\n",
    "print(sample_entropy(sec_20, order=2, metric='chebyshev'))           # Sample entropy\n",
    "\n",
    "print('Sample entropy 15s RR intervals')\n",
    "print(sample_entropy(sec_15, order=2, metric='chebyshev'))           # Sample entropy"
   ]
  },
  {
   "cell_type": "code",
   "execution_count": 9,
   "metadata": {},
   "outputs": [
    {
     "name": "stdout",
     "output_type": "stream",
     "text": [
      "Sample entropy RR gesamt\n",
      "0.33144635269702205\n",
      "Sample entropy 10min RR intervals\n",
      "0.06544278778958589\n",
      "Sample entropy 5min RR intervals\n",
      "0.11117736034980198\n",
      "Sample entropy 4min RR intervals\n",
      "0.13072189214664254\n",
      "Sample entropy 3min RR intervals\n",
      "0.15697828708336134\n",
      "Sample entropy 2min RR intervals\n",
      "0.19680171215126555\n",
      "Sample entropy 1min RR intervals\n",
      "0.2609066824181219\n"
     ]
    }
   ],
   "source": [
    "#Methode to calculate the sample entropy(Package entropy)\n",
    "\n",
    "print('Sample entropy RR gesamt')\n",
    "print(sample_entropy(RR, order=2, metric='chebyshev'))              # Sample entropy\n",
    "\n",
    "print('Sample entropy 10min RR intervals')\n",
    "print(sample_entropy(min_10, order=2, metric='chebyshev'))           # Sample entropy\n",
    "\n",
    "print('Sample entropy 5min RR intervals')\n",
    "print(sample_entropy(min_5, order=2, metric='chebyshev'))           # Sample entropy\n",
    "\n",
    "print('Sample entropy 4min RR intervals')\n",
    "print(sample_entropy(min_4, order=2, metric='chebyshev'))           # Sample entropy\n",
    "\n",
    "print('Sample entropy 3min RR intervals')\n",
    "print(sample_entropy(min_3, order=2, metric='chebyshev'))           # Sample entropy\n",
    "\n",
    "print('Sample entropy 2min RR intervals')\n",
    "print(sample_entropy(min_2, order=2, metric='chebyshev'))           # Sample entropy\n",
    "\n",
    "print('Sample entropy 1min RR intervals')\n",
    "print(sample_entropy(min_1, order=2, metric='chebyshev'))           # Sample entropy"
   ]
  },
  {
   "cell_type": "code",
   "execution_count": 10,
   "metadata": {},
   "outputs": [
    {
     "name": "stdout",
     "output_type": "stream",
     "text": [
      "Approximate entropy\n",
      "0.38472551175813186\n",
      "Approximate entropy 45s RR intervals\n",
      "0.32395725938674147\n",
      "Approximate entropy 30s RR intervals\n",
      "0.3433164363162762\n",
      "Approximate entropy 25s RR intervals\n",
      "0.349981621236624\n",
      "Approximate entropy 20s RR intervals\n",
      "0.360322728688534\n",
      "Approximate entropy 15s RR intervals\n",
      "0.36604766981970327\n"
     ]
    }
   ],
   "source": [
    "# Methode to calculate the Approximate entropy(Package entropy)\n",
    "\n",
    "print('Approximate entropy')\n",
    "print(app_entropy(RR, order=2, metric='chebyshev'))              # Approximate entropy\n",
    "\n",
    "print('Approximate entropy 45s RR intervals')\n",
    "print(app_entropy(sec_45, order=2, metric='chebyshev'))         # Approximate entropy\n",
    "\n",
    "print('Approximate entropy 30s RR intervals')\n",
    "print(app_entropy(sec_30, order=2, metric='chebyshev'))         # Approximate entropy\n",
    "\n",
    "print('Approximate entropy 25s RR intervals')\n",
    "print(app_entropy(sec_25, order=2, metric='chebyshev'))         # Approximate entropy\n",
    "\n",
    "print('Approximate entropy 20s RR intervals')\n",
    "print(app_entropy(sec_20, order=2, metric='chebyshev'))         # Approximate entropy\n",
    "\n",
    "print('Approximate entropy 15s RR intervals')\n",
    "print(app_entropy(sec_15, order=2, metric='chebyshev'))         # Approximate entropy\n"
   ]
  },
  {
   "cell_type": "code",
   "execution_count": 11,
   "metadata": {},
   "outputs": [
    {
     "name": "stdout",
     "output_type": "stream",
     "text": [
      "Approximate entropy\n",
      "0.38472551175813186\n",
      "Approximate entropy 10min RR intervals\n",
      "0.08083160340759576\n",
      "Approximate entropy 5min RR intervals\n",
      "0.12538429526598027\n",
      "Approximate entropy 4min RR intervals\n",
      "0.14630271801667383\n",
      "Approximate entropy 3min RR intervals\n",
      "0.17556882405717866\n",
      "Approximate entropy 2min RR intervals\n",
      "0.22195753158821852\n",
      "Approximate entropy 1min RR intervals\n",
      "0.29983663873358646\n"
     ]
    }
   ],
   "source": [
    "# Methode to calculate the Approximate entropy(Package entropy)\n",
    "\n",
    "print('Approximate entropy')\n",
    "print(app_entropy(RR, order=2, metric='chebyshev'))              # Approximate entropy\n",
    "\n",
    "print('Approximate entropy 10min RR intervals')\n",
    "print(app_entropy(min_10, order=2, metric='chebyshev'))              # Approximate entropy\n",
    "\n",
    "# Methode to calculate the Approximate entropy(Package entropy)\n",
    "print('Approximate entropy 5min RR intervals')\n",
    "print(app_entropy(min_5, order=2, metric='chebyshev'))              # Approximate entropy\n",
    "\n",
    "# Methode to calculate the Approximate entropy(Package entropy)\n",
    "print('Approximate entropy 4min RR intervals')\n",
    "print(app_entropy(min_4, order=2, metric='chebyshev'))              # Approximate entropy\n",
    "\n",
    "# Methode to calculate the Approximate entropy(Package entropy)\n",
    "print('Approximate entropy 3min RR intervals')\n",
    "print(app_entropy(min_3, order=2, metric='chebyshev'))              # Approximate entropy\n",
    "\n",
    "# Methode to calculate the Approximate entropy(Package entropy)\n",
    "print('Approximate entropy 2min RR intervals')\n",
    "print(app_entropy(min_2, order=2, metric='chebyshev'))              # Approximate entropy\n",
    "\n",
    "print('Approximate entropy 1min RR intervals')\n",
    "print(app_entropy(min_1, order=2, metric='chebyshev'))              # Approximate entropy"
   ]
  },
  {
   "cell_type": "code",
   "execution_count": null,
   "metadata": {},
   "outputs": [],
   "source": []
  }
 ],
 "metadata": {
  "kernelspec": {
   "display_name": "Python [conda env:ReseauxNeuronal] *",
   "language": "python",
   "name": "conda-env-ReseauxNeuronal-py"
  },
  "language_info": {
   "codemirror_mode": {
    "name": "ipython",
    "version": 3
   },
   "file_extension": ".py",
   "mimetype": "text/x-python",
   "name": "python",
   "nbconvert_exporter": "python",
   "pygments_lexer": "ipython3",
   "version": "3.7.7"
  }
 },
 "nbformat": 4,
 "nbformat_minor": 4
}
